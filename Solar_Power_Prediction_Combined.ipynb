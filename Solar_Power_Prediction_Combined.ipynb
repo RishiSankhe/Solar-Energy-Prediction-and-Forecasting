{
 "cells": [
  {
   "cell_type": "code",
   "execution_count": 1,
   "id": "5cbc0dc6-2932-4a60-bde6-a2acfab2abaa",
   "metadata": {},
   "outputs": [],
   "source": [
    "import pandas as pd\n",
    "import numpy as np\n",
    "from sklearn.model_selection import train_test_split, RandomizedSearchCV\n",
    "from sklearn.metrics import mean_absolute_error, mean_squared_error, mean_absolute_percentage_error, r2_score\n",
    "import xgboost as xgb\n",
    "from sklearn.ensemble import RandomForestRegressor, StackingRegressor\n",
    "from sklearn.linear_model import LinearRegression\n",
    "from sklearn.svm import SVR\n",
    "from sklearn.pipeline import Pipeline\n",
    "from sklearn.preprocessing import StandardScaler\n",
    "from sklearn.ensemble import AdaBoostRegressor\n",
    "from sklearn.tree import DecisionTreeRegressor\n",
    "from sklearn.ensemble import GradientBoostingRegressor"
   ]
  },
  {
   "cell_type": "code",
   "execution_count": 2,
   "id": "692095ee-4d93-4579-83ac-834d5b5c5678",
   "metadata": {},
   "outputs": [],
   "source": [
    "df = pd.read_csv('Pasion et al dataset.csv')"
   ]
  },
  {
   "cell_type": "code",
   "execution_count": 3,
   "id": "5c606216-9e1b-454a-ae02-baa37902fad1",
   "metadata": {},
   "outputs": [],
   "source": [
    "# Encode location data\n",
    "df_with_location_en = pd.get_dummies(df, columns=['Location'], drop_first=True)"
   ]
  },
  {
   "cell_type": "code",
   "execution_count": 4,
   "id": "3dfab69a-2740-4d4a-b8c2-e7d00940d2d8",
   "metadata": {},
   "outputs": [],
   "source": [
    "# Encode season data\n",
    "df_with_loc_season_en = pd.get_dummies(df_with_location_en, columns=['Season'], drop_first=True)"
   ]
  },
  {
   "cell_type": "code",
   "execution_count": 5,
   "id": "98c9aa75-1cac-496c-a2ad-c032ad7f5042",
   "metadata": {},
   "outputs": [],
   "source": [
    "min_hour_of_interest = 10\n",
    "max_hour_of_interest = 15"
   ]
  },
  {
   "cell_type": "code",
   "execution_count": 6,
   "id": "1bb72eaf-cc37-4c41-9324-4d863b5fcd89",
   "metadata": {},
   "outputs": [],
   "source": [
    "df_with_loc_season_en['delta_hr']= df_with_loc_season_en.Hour - min_hour_of_interest"
   ]
  },
  {
   "cell_type": "code",
   "execution_count": 7,
   "id": "9cf63d17-a3f4-47f3-a40a-05998e4c859c",
   "metadata": {},
   "outputs": [],
   "source": [
    "# Create Cyclic date features\n",
    "df_with_loc_season_en['sine_mon']= np.sin((df_with_loc_season_en.Month - 1)*np.pi/11)\n",
    "df_with_loc_season_en['cos_mon']= np.cos((df_with_loc_season_en.Month - 1)*np.pi/11)\n",
    "df_with_loc_season_en['sine_hr']= np.sin((df_with_loc_season_en.delta_hr*np.pi/(max_hour_of_interest - min_hour_of_interest)))\n",
    "df_with_loc_season_en['cos_hr']= np.cos((df_with_loc_season_en.delta_hr*np.pi/(max_hour_of_interest - min_hour_of_interest)))"
   ]
  },
  {
   "cell_type": "code",
   "execution_count": 8,
   "id": "815f7e98-8a5b-41c5-a15f-13946dd49edd",
   "metadata": {},
   "outputs": [],
   "source": [
    "selected_columns = ['Latitude', 'Humidity', 'AmbientTemp', 'PolyPwr', 'Wind.Speed',\n",
    "                     'Visibility', 'Pressure', 'Cloud.Ceiling', 'Location_Grissom',\n",
    "                     'Location_Hill Weber', 'Location_JDMT', 'Location_Kahului',\n",
    "                     'Location_MNANG', 'Location_Malmstrom', 'Location_March AFB',\n",
    "                     'Location_Offutt', 'Location_Peterson', 'Location_Travis','Location_USAFA',\n",
    "                    'Season_Spring', 'Season_Summer', 'Season_Winter',\n",
    "                     'sine_mon', 'cos_mon', 'sine_hr', 'cos_hr']"
   ]
  },
  {
   "cell_type": "code",
   "execution_count": 9,
   "id": "3273ecaa-4805-42af-8c1b-8af0a02981b4",
   "metadata": {},
   "outputs": [],
   "source": [
    "df_processed = df_with_loc_season_en[selected_columns].reset_index(drop=True)"
   ]
  },
  {
   "cell_type": "code",
   "execution_count": 10,
   "id": "330fffa0-d968-4ef0-a31c-e0554f630234",
   "metadata": {},
   "outputs": [],
   "source": [
    "target_label = 'PolyPwr'"
   ]
  },
  {
   "cell_type": "code",
   "execution_count": 11,
   "id": "4d04b8bf-2a67-4268-a1f5-78a3ff24c5b2",
   "metadata": {},
   "outputs": [],
   "source": [
    "input_feat = list(set(selected_columns).difference(set([target_label])))"
   ]
  },
  {
   "cell_type": "code",
   "execution_count": 12,
   "id": "be3a2b02-0062-4052-8432-4bd432f5a067",
   "metadata": {},
   "outputs": [],
   "source": [
    "df_X = df_processed[input_feat].reset_index(drop=True)"
   ]
  },
  {
   "cell_type": "code",
   "execution_count": 13,
   "id": "04198841-fd87-49c8-939b-a27eb4ff2dee",
   "metadata": {},
   "outputs": [],
   "source": [
    "df_y = df_processed[target_label]"
   ]
  },
  {
   "cell_type": "code",
   "execution_count": 14,
   "id": "78e782ba-83fe-4d3c-9708-59cfa7ee6c31",
   "metadata": {},
   "outputs": [],
   "source": [
    "X_train, X_test, y_train, y_test = train_test_split(df_X, df_y, test_size=0.2, random_state=42)"
   ]
  },
  {
   "cell_type": "code",
   "execution_count": 15,
   "id": "59877047-e89c-47e2-8ae9-10884c996e85",
   "metadata": {},
   "outputs": [],
   "source": [
    "xg_best_params = {'subsample': 0.6818181818181819,\n",
    " 'scale_pos_weight': 1,\n",
    " 'sampling_method': 'uniform',\n",
    " 'n_estimators': 500,\n",
    " 'min_split_loss': 0.5,\n",
    " 'min_child_weight': 10,\n",
    " 'max_depth': 8,\n",
    " 'learning_rate': 0.018787878787878787,\n",
    " 'lambda': 0.1,\n",
    " 'colsample_bytree': 0.7323232323232324,\n",
    " 'alpha': 0.1}"
   ]
  },
  {
   "cell_type": "code",
   "execution_count": 16,
   "id": "686482a0-b418-4e05-ae03-abc25ea01fb6",
   "metadata": {},
   "outputs": [],
   "source": [
    "xg_model = xgb.XGBRegressor(**xg_best_params)"
   ]
  },
  {
   "cell_type": "code",
   "execution_count": 17,
   "id": "40715f1f-6367-4f17-833d-648dc49a31ca",
   "metadata": {},
   "outputs": [],
   "source": [
    "rf_best_params = {'max_depth':40, 'max_features':'sqrt', 'min_samples_split':5,\n",
    "                      'n_estimators':1900}"
   ]
  },
  {
   "cell_type": "code",
   "execution_count": 18,
   "id": "a988c21d-6757-4de8-b617-45e08b685e64",
   "metadata": {},
   "outputs": [],
   "source": [
    "rf_model = RandomForestRegressor(**rf_best_params)"
   ]
  },
  {
   "cell_type": "code",
   "execution_count": 19,
   "id": "9926ad52-1f16-4010-80a7-9e4a3798519f",
   "metadata": {},
   "outputs": [],
   "source": [
    "# Scale training data\n",
    "svm_estimators = []\n",
    "svm_estimators.append(('standardscaler', StandardScaler()))\n",
    "# estimators.append(('minmax', MinMaxScaler()))\n",
    "svm_estimators.append(('svr', SVR(epsilon=0.2)))\n",
    "svm_pipeline = Pipeline(svm_estimators)"
   ]
  },
  {
   "cell_type": "code",
   "execution_count": 20,
   "id": "7eb1d927-6c67-461e-b77f-d2db0bc278b3",
   "metadata": {},
   "outputs": [],
   "source": [
    "svm_best_params = {'svr__kernel': 'poly', 'svr__epsilon': 1.0, 'svr__C': 160.0}"
   ]
  },
  {
   "cell_type": "code",
   "execution_count": 21,
   "id": "7ba83c4c-a57f-416f-8845-a522241aa795",
   "metadata": {},
   "outputs": [],
   "source": [
    "svm_model = svm_pipeline.set_params(**svm_best_params)\n"
   ]
  },
  {
   "cell_type": "code",
   "execution_count": 22,
   "id": "f6037ca9-e824-43ac-b4c0-194d85983b53",
   "metadata": {},
   "outputs": [],
   "source": [
    "ada_best_params = {'n_estimators': 100,\n",
    " 'loss': 'exponential',\n",
    " 'learning_rate': 0.05686868686868687,\n",
    " 'estimator': None}"
   ]
  },
  {
   "cell_type": "code",
   "execution_count": 23,
   "id": "494e805f-165d-40e4-b60e-3ce68d6bc033",
   "metadata": {},
   "outputs": [],
   "source": [
    "ada_model = AdaBoostRegressor(**ada_best_params)"
   ]
  },
  {
   "cell_type": "code",
   "execution_count": 24,
   "id": "5f08d555-4183-473b-bf99-bcf952ecba9a",
   "metadata": {},
   "outputs": [],
   "source": [
    "# Define the base models\n",
    "base0 = list()\n",
    "base0.append(('xg', xg_model))\n",
    "base0.append(('rf', rf_model))\n",
    "base0.append(('svm', svm_model))\n",
    "base0.append(('ada',ada_model))"
   ]
  },
  {
   "cell_type": "code",
   "execution_count": 25,
   "id": "ba1ac9f7-3992-428f-aa81-c1c264bf5f37",
   "metadata": {},
   "outputs": [],
   "source": [
    "# Define meta learner model\n",
    "base1 = GradientBoostingRegressor()"
   ]
  },
  {
   "cell_type": "code",
   "execution_count": 26,
   "id": "d088572e-31d4-4e74-99e3-cfbb73e0f528",
   "metadata": {},
   "outputs": [],
   "source": [
    "# Define the stacking ensemble\n",
    "stacked_model = StackingRegressor(estimators=base0, final_estimator=base1, cv=4, passthrough=True)"
   ]
  },
  {
   "cell_type": "code",
   "execution_count": 27,
   "id": "477e0134-ed4c-4387-8c11-98d2dc1aac7d",
   "metadata": {},
   "outputs": [
    {
     "data": {
      "text/html": [
       "<style>#sk-container-id-1 {color: black;}#sk-container-id-1 pre{padding: 0;}#sk-container-id-1 div.sk-toggleable {background-color: white;}#sk-container-id-1 label.sk-toggleable__label {cursor: pointer;display: block;width: 100%;margin-bottom: 0;padding: 0.3em;box-sizing: border-box;text-align: center;}#sk-container-id-1 label.sk-toggleable__label-arrow:before {content: \"▸\";float: left;margin-right: 0.25em;color: #696969;}#sk-container-id-1 label.sk-toggleable__label-arrow:hover:before {color: black;}#sk-container-id-1 div.sk-estimator:hover label.sk-toggleable__label-arrow:before {color: black;}#sk-container-id-1 div.sk-toggleable__content {max-height: 0;max-width: 0;overflow: hidden;text-align: left;background-color: #f0f8ff;}#sk-container-id-1 div.sk-toggleable__content pre {margin: 0.2em;color: black;border-radius: 0.25em;background-color: #f0f8ff;}#sk-container-id-1 input.sk-toggleable__control:checked~div.sk-toggleable__content {max-height: 200px;max-width: 100%;overflow: auto;}#sk-container-id-1 input.sk-toggleable__control:checked~label.sk-toggleable__label-arrow:before {content: \"▾\";}#sk-container-id-1 div.sk-estimator input.sk-toggleable__control:checked~label.sk-toggleable__label {background-color: #d4ebff;}#sk-container-id-1 div.sk-label input.sk-toggleable__control:checked~label.sk-toggleable__label {background-color: #d4ebff;}#sk-container-id-1 input.sk-hidden--visually {border: 0;clip: rect(1px 1px 1px 1px);clip: rect(1px, 1px, 1px, 1px);height: 1px;margin: -1px;overflow: hidden;padding: 0;position: absolute;width: 1px;}#sk-container-id-1 div.sk-estimator {font-family: monospace;background-color: #f0f8ff;border: 1px dotted black;border-radius: 0.25em;box-sizing: border-box;margin-bottom: 0.5em;}#sk-container-id-1 div.sk-estimator:hover {background-color: #d4ebff;}#sk-container-id-1 div.sk-parallel-item::after {content: \"\";width: 100%;border-bottom: 1px solid gray;flex-grow: 1;}#sk-container-id-1 div.sk-label:hover label.sk-toggleable__label {background-color: #d4ebff;}#sk-container-id-1 div.sk-serial::before {content: \"\";position: absolute;border-left: 1px solid gray;box-sizing: border-box;top: 0;bottom: 0;left: 50%;z-index: 0;}#sk-container-id-1 div.sk-serial {display: flex;flex-direction: column;align-items: center;background-color: white;padding-right: 0.2em;padding-left: 0.2em;position: relative;}#sk-container-id-1 div.sk-item {position: relative;z-index: 1;}#sk-container-id-1 div.sk-parallel {display: flex;align-items: stretch;justify-content: center;background-color: white;position: relative;}#sk-container-id-1 div.sk-item::before, #sk-container-id-1 div.sk-parallel-item::before {content: \"\";position: absolute;border-left: 1px solid gray;box-sizing: border-box;top: 0;bottom: 0;left: 50%;z-index: -1;}#sk-container-id-1 div.sk-parallel-item {display: flex;flex-direction: column;z-index: 1;position: relative;background-color: white;}#sk-container-id-1 div.sk-parallel-item:first-child::after {align-self: flex-end;width: 50%;}#sk-container-id-1 div.sk-parallel-item:last-child::after {align-self: flex-start;width: 50%;}#sk-container-id-1 div.sk-parallel-item:only-child::after {width: 0;}#sk-container-id-1 div.sk-dashed-wrapped {border: 1px dashed gray;margin: 0 0.4em 0.5em 0.4em;box-sizing: border-box;padding-bottom: 0.4em;background-color: white;}#sk-container-id-1 div.sk-label label {font-family: monospace;font-weight: bold;display: inline-block;line-height: 1.2em;}#sk-container-id-1 div.sk-label-container {text-align: center;}#sk-container-id-1 div.sk-container {/* jupyter's `normalize.less` sets `[hidden] { display: none; }` but bootstrap.min.css set `[hidden] { display: none !important; }` so we also need the `!important` here to be able to override the default hidden behavior on the sphinx rendered scikit-learn.org. See: https://github.com/scikit-learn/scikit-learn/issues/21755 */display: inline-block !important;position: relative;}#sk-container-id-1 div.sk-text-repr-fallback {display: none;}</style><div id=\"sk-container-id-1\" class=\"sk-top-container\"><div class=\"sk-text-repr-fallback\"><pre>StackingRegressor(cv=4,\n",
       "                  estimators=[(&#x27;xg&#x27;,\n",
       "                               XGBRegressor(alpha=0.1, base_score=None,\n",
       "                                            booster=None, callbacks=None,\n",
       "                                            colsample_bylevel=None,\n",
       "                                            colsample_bynode=None,\n",
       "                                            colsample_bytree=0.7323232323232324,\n",
       "                                            early_stopping_rounds=None,\n",
       "                                            enable_categorical=False,\n",
       "                                            eval_metric=None,\n",
       "                                            feature_types=None, gamma=None,\n",
       "                                            gpu_id=None, grow_policy=None,\n",
       "                                            importance_type=None,\n",
       "                                            interaction_...\n",
       "                               RandomForestRegressor(max_depth=40,\n",
       "                                                     max_features=&#x27;sqrt&#x27;,\n",
       "                                                     min_samples_split=5,\n",
       "                                                     n_estimators=1900)),\n",
       "                              (&#x27;svm&#x27;,\n",
       "                               Pipeline(steps=[(&#x27;standardscaler&#x27;,\n",
       "                                                StandardScaler()),\n",
       "                                               (&#x27;svr&#x27;,\n",
       "                                                SVR(C=160.0, epsilon=1.0,\n",
       "                                                    kernel=&#x27;poly&#x27;))])),\n",
       "                              (&#x27;ada&#x27;,\n",
       "                               AdaBoostRegressor(learning_rate=0.05686868686868687,\n",
       "                                                 loss=&#x27;exponential&#x27;,\n",
       "                                                 n_estimators=100))],\n",
       "                  final_estimator=GradientBoostingRegressor(),\n",
       "                  passthrough=True)</pre><b>In a Jupyter environment, please rerun this cell to show the HTML representation or trust the notebook. <br />On GitHub, the HTML representation is unable to render, please try loading this page with nbviewer.org.</b></div><div class=\"sk-container\" hidden><div class=\"sk-item sk-dashed-wrapped\"><div class=\"sk-label-container\"><div class=\"sk-label sk-toggleable\"><input class=\"sk-toggleable__control sk-hidden--visually\" id=\"sk-estimator-id-1\" type=\"checkbox\" ><label for=\"sk-estimator-id-1\" class=\"sk-toggleable__label sk-toggleable__label-arrow\">StackingRegressor</label><div class=\"sk-toggleable__content\"><pre>StackingRegressor(cv=4,\n",
       "                  estimators=[(&#x27;xg&#x27;,\n",
       "                               XGBRegressor(alpha=0.1, base_score=None,\n",
       "                                            booster=None, callbacks=None,\n",
       "                                            colsample_bylevel=None,\n",
       "                                            colsample_bynode=None,\n",
       "                                            colsample_bytree=0.7323232323232324,\n",
       "                                            early_stopping_rounds=None,\n",
       "                                            enable_categorical=False,\n",
       "                                            eval_metric=None,\n",
       "                                            feature_types=None, gamma=None,\n",
       "                                            gpu_id=None, grow_policy=None,\n",
       "                                            importance_type=None,\n",
       "                                            interaction_...\n",
       "                               RandomForestRegressor(max_depth=40,\n",
       "                                                     max_features=&#x27;sqrt&#x27;,\n",
       "                                                     min_samples_split=5,\n",
       "                                                     n_estimators=1900)),\n",
       "                              (&#x27;svm&#x27;,\n",
       "                               Pipeline(steps=[(&#x27;standardscaler&#x27;,\n",
       "                                                StandardScaler()),\n",
       "                                               (&#x27;svr&#x27;,\n",
       "                                                SVR(C=160.0, epsilon=1.0,\n",
       "                                                    kernel=&#x27;poly&#x27;))])),\n",
       "                              (&#x27;ada&#x27;,\n",
       "                               AdaBoostRegressor(learning_rate=0.05686868686868687,\n",
       "                                                 loss=&#x27;exponential&#x27;,\n",
       "                                                 n_estimators=100))],\n",
       "                  final_estimator=GradientBoostingRegressor(),\n",
       "                  passthrough=True)</pre></div></div></div><div class=\"sk-serial\"><div class=\"sk-item\"><div class=\"sk-parallel\"><div class=\"sk-parallel-item\"><div class=\"sk-item\"><div class=\"sk-label-container\"><div class=\"sk-label sk-toggleable\"><label>xg</label></div></div><div class=\"sk-serial\"><div class=\"sk-item\"><div class=\"sk-estimator sk-toggleable\"><input class=\"sk-toggleable__control sk-hidden--visually\" id=\"sk-estimator-id-2\" type=\"checkbox\" ><label for=\"sk-estimator-id-2\" class=\"sk-toggleable__label sk-toggleable__label-arrow\">XGBRegressor</label><div class=\"sk-toggleable__content\"><pre>XGBRegressor(alpha=0.1, base_score=None, booster=None, callbacks=None,\n",
       "             colsample_bylevel=None, colsample_bynode=None,\n",
       "             colsample_bytree=0.7323232323232324, early_stopping_rounds=None,\n",
       "             enable_categorical=False, eval_metric=None, feature_types=None,\n",
       "             gamma=None, gpu_id=None, grow_policy=None, importance_type=None,\n",
       "             interaction_constraints=None, lambda=0.1,\n",
       "             learning_rate=0.018787878787878787, max_bin=None,\n",
       "             max_cat_threshold=None, max_cat_to_onehot=None,\n",
       "             max_delta_step=None, max_depth=8, max_leaves=None,\n",
       "             min_child_weight=10, min_split_loss=0.5, missing=nan,\n",
       "             monotone_constraints=None, n_estimators=500, n_jobs=None, ...)</pre></div></div></div></div></div></div><div class=\"sk-parallel-item\"><div class=\"sk-item\"><div class=\"sk-label-container\"><div class=\"sk-label sk-toggleable\"><label>rf</label></div></div><div class=\"sk-serial\"><div class=\"sk-item\"><div class=\"sk-estimator sk-toggleable\"><input class=\"sk-toggleable__control sk-hidden--visually\" id=\"sk-estimator-id-3\" type=\"checkbox\" ><label for=\"sk-estimator-id-3\" class=\"sk-toggleable__label sk-toggleable__label-arrow\">RandomForestRegressor</label><div class=\"sk-toggleable__content\"><pre>RandomForestRegressor(max_depth=40, max_features=&#x27;sqrt&#x27;, min_samples_split=5,\n",
       "                      n_estimators=1900)</pre></div></div></div></div></div></div><div class=\"sk-parallel-item\"><div class=\"sk-item\"><div class=\"sk-label-container\"><div class=\"sk-label sk-toggleable\"><label>svm</label></div></div><div class=\"sk-serial\"><div class=\"sk-item\"><div class=\"sk-serial\"><div class=\"sk-item\"><div class=\"sk-estimator sk-toggleable\"><input class=\"sk-toggleable__control sk-hidden--visually\" id=\"sk-estimator-id-4\" type=\"checkbox\" ><label for=\"sk-estimator-id-4\" class=\"sk-toggleable__label sk-toggleable__label-arrow\">StandardScaler</label><div class=\"sk-toggleable__content\"><pre>StandardScaler()</pre></div></div></div><div class=\"sk-item\"><div class=\"sk-estimator sk-toggleable\"><input class=\"sk-toggleable__control sk-hidden--visually\" id=\"sk-estimator-id-5\" type=\"checkbox\" ><label for=\"sk-estimator-id-5\" class=\"sk-toggleable__label sk-toggleable__label-arrow\">SVR</label><div class=\"sk-toggleable__content\"><pre>SVR(C=160.0, epsilon=1.0, kernel=&#x27;poly&#x27;)</pre></div></div></div></div></div></div></div></div><div class=\"sk-parallel-item\"><div class=\"sk-item\"><div class=\"sk-label-container\"><div class=\"sk-label sk-toggleable\"><label>ada</label></div></div><div class=\"sk-serial\"><div class=\"sk-item\"><div class=\"sk-estimator sk-toggleable\"><input class=\"sk-toggleable__control sk-hidden--visually\" id=\"sk-estimator-id-6\" type=\"checkbox\" ><label for=\"sk-estimator-id-6\" class=\"sk-toggleable__label sk-toggleable__label-arrow\">AdaBoostRegressor</label><div class=\"sk-toggleable__content\"><pre>AdaBoostRegressor(learning_rate=0.05686868686868687, loss=&#x27;exponential&#x27;,\n",
       "                  n_estimators=100)</pre></div></div></div></div></div></div></div></div><div class=\"sk-item\"><div class=\"sk-parallel\"><div class=\"sk-parallel-item\"><div class=\"sk-item\"><div class=\"sk-label-container\"><div class=\"sk-label sk-toggleable\"><label>final_estimator</label></div></div><div class=\"sk-serial\"><div class=\"sk-item\"><div class=\"sk-estimator sk-toggleable\"><input class=\"sk-toggleable__control sk-hidden--visually\" id=\"sk-estimator-id-7\" type=\"checkbox\" ><label for=\"sk-estimator-id-7\" class=\"sk-toggleable__label sk-toggleable__label-arrow\">GradientBoostingRegressor</label><div class=\"sk-toggleable__content\"><pre>GradientBoostingRegressor()</pre></div></div></div></div></div></div></div></div></div></div></div></div>"
      ],
      "text/plain": [
       "StackingRegressor(cv=4,\n",
       "                  estimators=[('xg',\n",
       "                               XGBRegressor(alpha=0.1, base_score=None,\n",
       "                                            booster=None, callbacks=None,\n",
       "                                            colsample_bylevel=None,\n",
       "                                            colsample_bynode=None,\n",
       "                                            colsample_bytree=0.7323232323232324,\n",
       "                                            early_stopping_rounds=None,\n",
       "                                            enable_categorical=False,\n",
       "                                            eval_metric=None,\n",
       "                                            feature_types=None, gamma=None,\n",
       "                                            gpu_id=None, grow_policy=None,\n",
       "                                            importance_type=None,\n",
       "                                            interaction_...\n",
       "                               RandomForestRegressor(max_depth=40,\n",
       "                                                     max_features='sqrt',\n",
       "                                                     min_samples_split=5,\n",
       "                                                     n_estimators=1900)),\n",
       "                              ('svm',\n",
       "                               Pipeline(steps=[('standardscaler',\n",
       "                                                StandardScaler()),\n",
       "                                               ('svr',\n",
       "                                                SVR(C=160.0, epsilon=1.0,\n",
       "                                                    kernel='poly'))])),\n",
       "                              ('ada',\n",
       "                               AdaBoostRegressor(learning_rate=0.05686868686868687,\n",
       "                                                 loss='exponential',\n",
       "                                                 n_estimators=100))],\n",
       "                  final_estimator=GradientBoostingRegressor(),\n",
       "                  passthrough=True)"
      ]
     },
     "execution_count": 27,
     "metadata": {},
     "output_type": "execute_result"
    }
   ],
   "source": [
    "# Fit the model on the training data\n",
    "stacked_model.fit(X_train, y_train)"
   ]
  },
  {
   "cell_type": "code",
   "execution_count": 28,
   "id": "85275a54-084a-4af3-b633-7975f9989ea5",
   "metadata": {},
   "outputs": [
    {
     "data": {
      "text/plain": [
       "2.669414603135988"
      ]
     },
     "execution_count": 28,
     "metadata": {},
     "output_type": "execute_result"
    }
   ],
   "source": [
    "from sklearn.metrics import mean_absolute_error\n",
    "\n",
    "mean_absolute_error(stacked_model.predict(X_test), y_test)"
   ]
  },
  {
   "cell_type": "code",
   "execution_count": 29,
   "id": "3f14ffb2-339f-46f2-8d61-4d17b7596534",
   "metadata": {},
   "outputs": [
    {
     "data": {
      "text/plain": [
       "4.032559524120524"
      ]
     },
     "execution_count": 29,
     "metadata": {},
     "output_type": "execute_result"
    }
   ],
   "source": [
    "from sklearn.metrics import mean_squared_error\n",
    "np.sqrt(mean_squared_error(stacked_model.predict(X_test), y_test))"
   ]
  },
  {
   "cell_type": "code",
   "execution_count": 30,
   "id": "799c70f2-f9f3-4bdb-be0c-7f0ade74dd45",
   "metadata": {},
   "outputs": [],
   "source": [
    "y_pred = stacked_model.predict(X_test)"
   ]
  },
  {
   "cell_type": "code",
   "execution_count": 31,
   "id": "3dfd7136-3910-4e81-989a-4bd7eb292fc4",
   "metadata": {},
   "outputs": [
    {
     "data": {
      "text/plain": [
       "0.6798942155261791"
      ]
     },
     "execution_count": 31,
     "metadata": {},
     "output_type": "execute_result"
    }
   ],
   "source": [
    "# R2 score\n",
    "r2_score(y_test.ravel(), y_pred)"
   ]
  },
  {
   "cell_type": "code",
   "execution_count": null,
   "id": "1f28b942-8739-4e62-ab9c-9abc8a176be0",
   "metadata": {},
   "outputs": [],
   "source": []
  }
 ],
 "metadata": {
  "kernelspec": {
   "display_name": "Python 3 (ipykernel)",
   "language": "python",
   "name": "python3"
  },
  "language_info": {
   "codemirror_mode": {
    "name": "ipython",
    "version": 3
   },
   "file_extension": ".py",
   "mimetype": "text/x-python",
   "name": "python",
   "nbconvert_exporter": "python",
   "pygments_lexer": "ipython3",
   "version": "3.9.6"
  }
 },
 "nbformat": 4,
 "nbformat_minor": 5
}
